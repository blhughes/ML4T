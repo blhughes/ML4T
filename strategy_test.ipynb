{
 "cells": [
  {
   "cell_type": "code",
   "execution_count": 1,
   "metadata": {
    "collapsed": true
   },
   "outputs": [],
   "source": [
    "import pandas as pd\n",
    "import numpy as np\n",
    "import datetime as dt\n",
    "import util\n",
    "import StrategyLearner as sl\n",
    "from scipy.stats import zscore\n",
    "import math"
   ]
  },
  {
   "cell_type": "code",
   "execution_count": 73,
   "metadata": {},
   "outputs": [
    {
     "name": "stdout",
     "output_type": "stream",
     "text": [
      "CR: 341.776900\n",
      "CR: 1062.389700\n",
      "CR: 644.818800\n",
      "CR: 832.550600\n",
      "CR: 882.301700\n",
      "CR: 905.622500\n",
      "CR: 905.622500\n"
     ]
    }
   ],
   "source": [
    "reload(sl)\n",
    "symbol = 'AAPL'\n",
    "sd = dt.datetime(2008,1,1)\n",
    "ed = dt.datetime(2009,12,31)\n",
    "\n",
    "\n",
    "learner = sl.StrategyLearner(verbose = False) # constructor\n",
    "learner.addEvidence(symbol = \"AAPL\", sd=dt.datetime(2008,1,1), ed=dt.datetime(2009,12,31), sv = 100000) # training phase"
   ]
  },
  {
   "cell_type": "code",
   "execution_count": 77,
   "metadata": {},
   "outputs": [
    {
     "name": "stdout",
     "output_type": "stream",
     "text": [
      "CR: 510.853300\n",
      "Baseline: 2474.458000\n"
     ]
    }
   ],
   "source": [
    "df_trades = learner.testPolicy(symbol = \"AAPL\", sd=dt.datetime(2010,1,1), ed=dt.datetime(2011,12,31), sv = 100000) # testing phase\n"
   ]
  },
  {
   "cell_type": "code",
   "execution_count": 18,
   "metadata": {
    "scrolled": false
   },
   "outputs": [],
   "source": [
    "dates = pd.date_range(sd-dt.timedelta(100), ed)\n",
    "df = util.get_data([symbol],dates)[symbol]\n",
    "normalized = df/df.ix[0]\n",
    "sma = normalized.rolling(50).mean()\n",
    "df = pd.DataFrame(df).assign(normalized =normalized).assign(sma = sma).assign(psma = normalized / sma)[sd:]\n",
    "daily_returns = df[symbol].copy()\n",
    "daily_returns[1:] =  (df[symbol].ix[1:] / df[symbol].ix[:-1].values) -1\n",
    "daily_returns.ix[0] = 0 \n",
    "df = df.assign(dr = daily_returns)\n",
    "df = df.assign(qsma = pd.qcut(df['sma'], 10, labels=False))"
   ]
  },
  {
   "cell_type": "code",
   "execution_count": 13,
   "metadata": {},
   "outputs": [
    {
     "data": {
      "text/plain": [
       "2007-09-24         NaN\n",
       "2007-09-25         NaN\n",
       "2007-09-26         NaN\n",
       "2007-09-27         NaN\n",
       "2007-09-28         NaN\n",
       "2007-10-01         NaN\n",
       "2007-10-02         NaN\n",
       "2007-10-03         NaN\n",
       "2007-10-04         NaN\n",
       "2007-10-05         NaN\n",
       "2007-10-08         NaN\n",
       "2007-10-09         NaN\n",
       "2007-10-10         NaN\n",
       "2007-10-11         NaN\n",
       "2007-10-12         NaN\n",
       "2007-10-15         NaN\n",
       "2007-10-16         NaN\n",
       "2007-10-17         NaN\n",
       "2007-10-18         NaN\n",
       "2007-10-19         NaN\n",
       "2007-10-22         NaN\n",
       "2007-10-23         NaN\n",
       "2007-10-24         NaN\n",
       "2007-10-25         NaN\n",
       "2007-10-26         NaN\n",
       "2007-10-29         NaN\n",
       "2007-10-30         NaN\n",
       "2007-10-31         NaN\n",
       "2007-11-01         NaN\n",
       "2007-11-02         NaN\n",
       "                ...   \n",
       "2009-11-18    1.288826\n",
       "2009-11-19    1.292596\n",
       "2009-11-20    1.296341\n",
       "2009-11-23    1.300678\n",
       "2009-11-24    1.304628\n",
       "2009-11-25    1.307638\n",
       "2009-11-27    1.309802\n",
       "2009-11-30    1.311810\n",
       "2009-12-01    1.313557\n",
       "2009-12-02    1.315142\n",
       "2009-12-03    1.316623\n",
       "2009-12-04    1.317904\n",
       "2009-12-07    1.318791\n",
       "2009-12-08    1.319293\n",
       "2009-12-09    1.320968\n",
       "2009-12-10    1.322463\n",
       "2009-12-11    1.324326\n",
       "2009-12-14    1.325955\n",
       "2009-12-15    1.327054\n",
       "2009-12-16    1.327731\n",
       "2009-12-17    1.327948\n",
       "2009-12-18    1.328779\n",
       "2009-12-21    1.329826\n",
       "2009-12-22    1.331114\n",
       "2009-12-23    1.332743\n",
       "2009-12-24    1.335138\n",
       "2009-12-28    1.337977\n",
       "2009-12-29    1.340816\n",
       "2009-12-30    1.343754\n",
       "2009-12-31    1.345368\n",
       "Name: AAPL, dtype: float64"
      ]
     },
     "execution_count": 13,
     "metadata": {},
     "output_type": "execute_result"
    }
   ],
   "source": [
    "sma"
   ]
  }
 ],
 "metadata": {
  "kernelspec": {
   "display_name": "Python 2",
   "language": "python",
   "name": "python2"
  },
  "language_info": {
   "codemirror_mode": {
    "name": "ipython",
    "version": 2
   },
   "file_extension": ".py",
   "mimetype": "text/x-python",
   "name": "python",
   "nbconvert_exporter": "python",
   "pygments_lexer": "ipython2",
   "version": "2.7.8"
  }
 },
 "nbformat": 4,
 "nbformat_minor": 2
}
